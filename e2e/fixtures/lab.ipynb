{
 "cells": [
  {
   "cell_type": "code",
   "execution_count": 1,
   "id": "3eb18e90-d7c8-4f10-8bc5-fc424377e713",
   "metadata": {},
   "outputs": [
    {
     "data": {
      "application/vnd.jupyter.widget-view+json": {
       "model_id": "c1fd01d2842b4c06a99a6f1d9679c455",
       "version_major": 2,
       "version_minor": 0
      },
      "text/plain": [
       "CounterWidget(count=10)"
      ]
     },
     "execution_count": 1,
     "metadata": {},
     "output_type": "execute_result"
    }
   ],
   "source": [
    "import anywidget\n",
    "import traitlets\n",
    "\n",
    "class CounterWidget(anywidget.AnyWidget):\n",
    "    # Widget front-end JavaScript code\n",
    "    _esm = \"\"\"\n",
    "    export function render(view) {\n",
    "      let getCount = () => view.model.get(\"count\");\n",
    "      let button = document.createElement(\"button\");\n",
    "      button.innerHTML = `count is ${getCount()}`;\n",
    "      button.addEventListener(\"click\", () => {\n",
    "        view.model.set(\"count\", getCount() + 1);\n",
    "        view.model.save_changes();\n",
    "      });\n",
    "      view.model.on(\"change:count\", () => {\n",
    "        button.innerHTML = `count is ${getCount()}`;\n",
    "      });\n",
    "      button.classList.add(\"counter-button\");\n",
    "      view.el.appendChild(button);\n",
    "    }\n",
    "    \"\"\"\n",
    "    _css = \"\"\"\n",
    "      .counter-button {\n",
    "        color: red;\n",
    "      }\n",
    "    \"\"\"\n",
    "    # Stateful property that can be accessed by JavaScript & Python\n",
    "    count = traitlets.Int(0).tag(sync=True)\n",
    "    \n",
    "counter = CounterWidget()\n",
    "counter.count = 10\n",
    "counter"
   ]
  },
  {
   "cell_type": "code",
   "execution_count": null,
   "id": "b996cde2-b2f8-4528-a93b-18c09041af44",
   "metadata": {},
   "outputs": [],
   "source": [
    "counter.count"
   ]
  },
  {
   "cell_type": "code",
   "execution_count": null,
   "id": "bfe9e107-f904-4e5f-aaaf-df09df982276",
   "metadata": {},
   "outputs": [],
   "source": [
    "counter.count = 100"
   ]
  }
 ],
 "metadata": {
  "kernelspec": {
   "display_name": "Python 3 (ipykernel)",
   "language": "python",
   "name": "python3"
  },
  "language_info": {
   "codemirror_mode": {
    "name": "ipython",
    "version": 3
   },
   "file_extension": ".py",
   "mimetype": "text/x-python",
   "name": "python",
   "nbconvert_exporter": "python",
   "pygments_lexer": "ipython3",
   "version": "3.11.0"
  },
  "widgets": {
   "application/vnd.jupyter.widget-state+json": {
    "state": {},
    "version_major": 2,
    "version_minor": 0
   }
  }
 },
 "nbformat": 4,
 "nbformat_minor": 5
}
