{
 "cells": [
  {
   "cell_type": "code",
   "execution_count": null,
   "id": "3eb18e90-d7c8-4f10-8bc5-fc424377e713",
   "metadata": {},
   "outputs": [],
   "source": [
    "import anywidget\n",
    "import traitlets\n",
    "\n",
    "class CounterWidget(anywidget.AnyWidget):\n",
    "    # Widget front-end JavaScript code\n",
    "    _esm = \"\"\"\n",
    "    export function render(view) {\n",
    "      let button = document.createElement(\"button\");\n",
    "      button.innerHTML = `count is ${view.model.get(\"count\")}`;\n",
    "      button.addEventListener(\"click\", function () {\n",
    "        view.model.set(\"count\", view.model.get(\"count\") + 1);\n",
    "        view.model.save_changes();\n",
    "      });\n",
    "      view.model.on(\"change:count\", function () {\n",
    "        button.innerHTML = `count is ${view.model.get(\"count\")}`;\n",
    "      });\n",
    "      button.classList.add(\"counter-button\");\n",
    "      view.el.appendChild(button);\n",
    "    }\n",
    "    \"\"\"\n",
    "    _css = \"\"\"\n",
    "      .counter-button {\n",
    "        color: red;\n",
    "      }\n",
    "    \"\"\"\n",
    "    # Stateful property that can be accessed by JavaScript & Python\n",
    "    count = traitlets.Int(0).tag(sync=True)\n",
    "    \n",
    "counter = CounterWidget()\n",
    "counter.count = 10\n",
    "counter"
   ]
  },
  {
   "cell_type": "code",
   "execution_count": null,
   "id": "b996cde2-b2f8-4528-a93b-18c09041af44",
   "metadata": {},
   "outputs": [],
   "source": [
    "counter.count"
   ]
  },
  {
   "cell_type": "code",
   "execution_count": null,
   "id": "bfe9e107-f904-4e5f-aaaf-df09df982276",
   "metadata": {},
   "outputs": [],
   "source": [
    "counter.count = 100"
   ]
  }
 ],
 "metadata": {
  "kernelspec": {
   "display_name": "Python 3 (ipykernel)",
   "language": "python",
   "name": "python3"
  },
  "language_info": {
   "codemirror_mode": {
    "name": "ipython",
    "version": 3
   },
   "file_extension": ".py",
   "mimetype": "text/x-python",
   "name": "python",
   "nbconvert_exporter": "python",
   "pygments_lexer": "ipython3",
   "version": "3.11.0"
  },
  "widgets": {
   "application/vnd.jupyter.widget-state+json": {
    "state": {},
    "version_major": 2,
    "version_minor": 0
   }
  }
 },
 "nbformat": 4,
 "nbformat_minor": 5
}
